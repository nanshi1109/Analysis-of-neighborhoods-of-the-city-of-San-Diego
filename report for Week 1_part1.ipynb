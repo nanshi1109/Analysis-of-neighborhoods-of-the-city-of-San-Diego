{
    "cells": [
        {
            "metadata": {
                "collapsed": true
            },
            "cell_type": "markdown",
            "source": "## 1.\tA description of the problem and a discussion of the background. (15 marks)"
        },
        {
            "metadata": {},
            "cell_type": "markdown",
            "source": "San Diego, the city the author lives in, is a border city in the southwestern United States. Its beautiful seaside environment, pleasant climate, numerous high-tech companies and a good education system are attracting a large number of people to move in. For the person who would like to move in, finding the most suitable neighborhood according to his/her own preferences, like is there your favorite restaurant that best suits your taste, is there a grocery store nearby or is it near the beach and so on. If you live for a long time, you also need to consider the housing price level of the community. \n\nThus, the problem to be solved by this project is to take the city of San Diego as an example, giving a basic recommendation to the person who are preparing to move in San Diego: for different neighborhoods, what are the most common venues, what are the characteristics of this neighborhood, and what is the level of housing prices. Through this basic recommendation, people can get a general understanding of the community environment in San Diego, and then choose the most suitable place to live.\n \n"
        }
    ],
    "metadata": {
        "kernelspec": {
            "name": "python3",
            "display_name": "Python 3.7",
            "language": "python"
        },
        "language_info": {
            "name": "python",
            "version": "3.7.10",
            "mimetype": "text/x-python",
            "codemirror_mode": {
                "name": "ipython",
                "version": 3
            },
            "pygments_lexer": "ipython3",
            "nbconvert_exporter": "python",
            "file_extension": ".py"
        }
    },
    "nbformat": 4,
    "nbformat_minor": 1
}