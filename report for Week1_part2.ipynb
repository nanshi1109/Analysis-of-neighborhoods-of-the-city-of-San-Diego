{
    "cells": [
        {
            "metadata": {
                "collapsed": true
            },
            "cell_type": "markdown",
            "source": "## 2.\tA description of the data and how it will be used to solve the problem. (15 marks)"
        },
        {
            "metadata": {},
            "cell_type": "markdown",
            "source": "We need data from reliable sources for further analysis. Focusing on this project, we will use following data:\n1) Pulling the data of neighborhood of the city of San Diego out of HTML https://web.archive.org/web/20080509171047/http://www.sandiego.gov/neighborhoodmaps/ . The neighborhoods of the City of San Diego are divided into regions. These regions are based on the neighborhood policing and community services areas.\n\n2) Foursquare Developers Access to venue data. Foursquare is a US tech company from New York focusing on location data. I will use foursquare data such as the venue name, location and category. \n\n3) The house price comes from Zillow. We use Zillow home value index, which means the typical value for a geographic area, to represent house price in that neighborhood.\n\n4) The latitude and longitude data of each neighborhood comes from Google search, due to recently Google started charging for their API. \n"
        },
        {
            "metadata": {},
            "cell_type": "code",
            "source": "",
            "execution_count": null,
            "outputs": []
        }
    ],
    "metadata": {
        "kernelspec": {
            "name": "python3",
            "display_name": "Python 3.7",
            "language": "python"
        },
        "language_info": {
            "name": "python",
            "version": "3.7.10",
            "mimetype": "text/x-python",
            "codemirror_mode": {
                "name": "ipython",
                "version": 3
            },
            "pygments_lexer": "ipython3",
            "nbconvert_exporter": "python",
            "file_extension": ".py"
        }
    },
    "nbformat": 4,
    "nbformat_minor": 1
}